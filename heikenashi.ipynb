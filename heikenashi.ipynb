{
 "cells": [
  {
   "cell_type": "code",
   "execution_count": 1,
   "metadata": {},
   "outputs": [],
   "source": [
    "import pandas as pd\n",
    "import numpy as np \n",
    "import psycopg2\n",
    "import cufflinks\n",
    "from plotly.offline import iplot, init_notebook_mode\n",
    "cufflinks.go_offline(connected=True)\n",
    "init_notebook_mode(connected=True)\n",
    "connection = psycopg2.connect(dbname='papahere', user='postgres', password='ncr*123')\n",
    "import plotly.express as px\n",
    "import plotly.graph_objects as go"
   ]
  },
  {
   "cell_type": "code",
   "execution_count": 1,
   "metadata": {},
   "outputs": [],
   "source": [
    "candlesize =60\n",
    "query = f'''\n",
    "select \n",
    "to_timestamp(floor((extract('epoch' from a.exchange_timestamp) / {candlesize} )) * {candlesize}) AT TIME ZONE 'UTC' as candle,\n",
    "tradingsymbol,\n",
    "count(*) as nostrades , \n",
    "(array_agg (last_price order by a.last_trade_time asc ))[1] o,\n",
    "(array_agg (last_price order by a.last_trade_time desc ))[1] c,\n",
    "max (a.last_price) h,\n",
    "min (a.last_price) l\n",
    "-- ,max(a.volume_traded)-min(a.volume_traded) volume\n",
    "\n",
    "from kite_prod.ticks a where a.tradingsymbol = 'BANKNIFTY2230335600PE' and date(exchange_timestamp) = '25feb2022'\n",
    "-- and extract (hour from a.last_trade_time) between 11 and 12\n",
    "group by candle , a.tradingsymbol\n",
    "order by candle \n",
    "'''"
   ]
  },
  {
   "cell_type": "code",
   "execution_count": 2,
   "metadata": {},
   "outputs": [
    {
     "name": "stdout",
     "output_type": "stream",
     "text": [
      "\n",
      "select \n",
      "to_timestamp(floor((extract('epoch' from a.exchange_timestamp) / 60 )) * 60) AT TIME ZONE 'UTC' as candle,\n",
      "tradingsymbol,\n",
      "count(*) as nostrades , \n",
      "(array_agg (last_price order by a.last_trade_time asc ))[1] o,\n",
      "(array_agg (last_price order by a.last_trade_time desc ))[1] c,\n",
      "max (a.last_price) h,\n",
      "min (a.last_price) l\n",
      "-- ,max(a.volume_traded)-min(a.volume_traded) volume\n",
      "\n",
      "from kite_prod.ticks a where a.tradingsymbol = 'BANKNIFTY2230335600PE' and date(exchange_timestamp) = '25feb2022'\n",
      "-- and extract (hour from a.last_trade_time) between 11 and 12\n",
      "group by candle , a.tradingsymbol\n",
      "order by candle \n",
      "\n"
     ]
    }
   ],
   "source": [
    "print(query)"
   ]
  },
  {
   "cell_type": "code",
   "execution_count": 112,
   "metadata": {},
   "outputs": [
    {
     "name": "stderr",
     "output_type": "stream",
     "text": [
      "C:\\Users\\ssmgf\\AppData\\Local\\Programs\\Python\\Python310\\lib\\site-packages\\pandas\\io\\sql.py:761: UserWarning:\n",
      "\n",
      "pandas only support SQLAlchemy connectable(engine/connection) ordatabase string URI or sqlite3 DBAPI2 connectionother DBAPI2 objects are not tested, please consider using SQLAlchemy\n",
      "\n"
     ]
    }
   ],
   "source": [
    "data =pd.read_sql(query, connection)\n",
    "ha=pd.DataFrame()\n",
    "# data['hac']=data[['o', 'c', 'h', 'l']].sum(axis=1)/4\n",
    "# data['hao']=data['o']\n",
    "# data['hao']=data[['hao', 'hac']].shift(1).sum(axis=1)/2\n",
    "# data['hah']=data[['hao', 'hac','h']].max(axis=1)\n",
    "# data['hal']=data[['hao', 'hac','l']].min(axis=1)\n",
    "# data['green']=data.hac > data.hao\n",
    "data.to_excel('heiken_ashicheck.xlsx')"
   ]
  },
  {
   "cell_type": "code",
   "execution_count": 122,
   "metadata": {},
   "outputs": [],
   "source": [
    "def hacandles(data):\n",
    "    dataha=data[[ 'o', 'c', 'h', 'l']].copy()\n",
    "    for i in range (1,len(dataha)):\n",
    "        dataha.iat[i,1] = sum(dataha.iloc[i])/4\n",
    "        dataha.iat[i,0] = sum(dataha.iloc[i-1,:2])/2\n",
    "        dataha.iat[i,2] = dataha.iloc[i,[0,1,2]].max() \n",
    "        dataha.iat[i,-1] = dataha.iloc[i,[0,1,-1]].min() \n",
    "        dataha.columns = [ 'hao', 'hac', 'hah', 'hal']\n",
    "        dataha.index=data.candle\n",
    "    return dataha\n",
    "\n"
   ]
  },
  {
   "cell_type": "code",
   "execution_count": 123,
   "metadata": {},
   "outputs": [],
   "source": [
    "dataha = hacandles(data)"
   ]
  },
  {
   "cell_type": "code",
   "execution_count": 124,
   "metadata": {},
   "outputs": [],
   "source": [
    "fig = go.Candlestick(x=dataha.index,open=dataha.hao,close= dataha.hac,high=dataha.hah , low=dataha.hal)\n",
    "fig = go.Figure(data = fig)\n",
    "fig.layout.xaxis.rangeselector.visible=False\n",
    "fig.layout.xaxis.rangeslider.visible=False\n",
    "fig.write_html('check.html')\n"
   ]
  },
  {
   "cell_type": "code",
   "execution_count": 120,
   "metadata": {},
   "outputs": [
    {
     "data": {
      "text/html": [
       "<div>\n",
       "<style scoped>\n",
       "    .dataframe tbody tr th:only-of-type {\n",
       "        vertical-align: middle;\n",
       "    }\n",
       "\n",
       "    .dataframe tbody tr th {\n",
       "        vertical-align: top;\n",
       "    }\n",
       "\n",
       "    .dataframe thead th {\n",
       "        text-align: right;\n",
       "    }\n",
       "</style>\n",
       "<table border=\"1\" class=\"dataframe\">\n",
       "  <thead>\n",
       "    <tr style=\"text-align: right;\">\n",
       "      <th></th>\n",
       "      <th>hao</th>\n",
       "      <th>hac</th>\n",
       "      <th>hah</th>\n",
       "      <th>hal</th>\n",
       "    </tr>\n",
       "    <tr>\n",
       "      <th>candle</th>\n",
       "      <th></th>\n",
       "      <th></th>\n",
       "      <th></th>\n",
       "      <th></th>\n",
       "    </tr>\n",
       "  </thead>\n",
       "  <tbody>\n",
       "    <tr>\n",
       "      <th>2022-02-25 10:04:00</th>\n",
       "      <td>542.750000</td>\n",
       "      <td>538.6500</td>\n",
       "      <td>542.75</td>\n",
       "      <td>535.2000</td>\n",
       "    </tr>\n",
       "    <tr>\n",
       "      <th>2022-02-25 10:05:00</th>\n",
       "      <td>540.700000</td>\n",
       "      <td>542.6125</td>\n",
       "      <td>552.75</td>\n",
       "      <td>542.6125</td>\n",
       "    </tr>\n",
       "    <tr>\n",
       "      <th>2022-02-25 10:06:00</th>\n",
       "      <td>541.656250</td>\n",
       "      <td>539.2125</td>\n",
       "      <td>552.75</td>\n",
       "      <td>542.6125</td>\n",
       "    </tr>\n",
       "    <tr>\n",
       "      <th>2022-02-25 10:07:00</th>\n",
       "      <td>540.434375</td>\n",
       "      <td>539.5375</td>\n",
       "      <td>552.75</td>\n",
       "      <td>542.6125</td>\n",
       "    </tr>\n",
       "    <tr>\n",
       "      <th>2022-02-25 10:08:00</th>\n",
       "      <td>539.985938</td>\n",
       "      <td>525.5625</td>\n",
       "      <td>552.75</td>\n",
       "      <td>542.6125</td>\n",
       "    </tr>\n",
       "    <tr>\n",
       "      <th>...</th>\n",
       "      <td>...</td>\n",
       "      <td>...</td>\n",
       "      <td>...</td>\n",
       "      <td>...</td>\n",
       "    </tr>\n",
       "    <tr>\n",
       "      <th>2022-02-25 15:30:00</th>\n",
       "      <td>545.037574</td>\n",
       "      <td>540.0000</td>\n",
       "      <td>552.75</td>\n",
       "      <td>542.6125</td>\n",
       "    </tr>\n",
       "    <tr>\n",
       "      <th>2022-02-25 16:26:00</th>\n",
       "      <td>542.518787</td>\n",
       "      <td>540.0000</td>\n",
       "      <td>552.75</td>\n",
       "      <td>542.6125</td>\n",
       "    </tr>\n",
       "    <tr>\n",
       "      <th>2022-02-25 16:44:00</th>\n",
       "      <td>541.259394</td>\n",
       "      <td>540.0000</td>\n",
       "      <td>552.75</td>\n",
       "      <td>542.6125</td>\n",
       "    </tr>\n",
       "    <tr>\n",
       "      <th>2022-02-25 16:52:00</th>\n",
       "      <td>540.629697</td>\n",
       "      <td>540.0000</td>\n",
       "      <td>552.75</td>\n",
       "      <td>542.6125</td>\n",
       "    </tr>\n",
       "    <tr>\n",
       "      <th>2022-02-25 17:15:00</th>\n",
       "      <td>540.314848</td>\n",
       "      <td>540.0000</td>\n",
       "      <td>552.75</td>\n",
       "      <td>542.6125</td>\n",
       "    </tr>\n",
       "  </tbody>\n",
       "</table>\n",
       "<p>331 rows × 4 columns</p>\n",
       "</div>"
      ],
      "text/plain": [
       "                            hao       hac     hah       hal\n",
       "candle                                                     \n",
       "2022-02-25 10:04:00  542.750000  538.6500  542.75  535.2000\n",
       "2022-02-25 10:05:00  540.700000  542.6125  552.75  542.6125\n",
       "2022-02-25 10:06:00  541.656250  539.2125  552.75  542.6125\n",
       "2022-02-25 10:07:00  540.434375  539.5375  552.75  542.6125\n",
       "2022-02-25 10:08:00  539.985938  525.5625  552.75  542.6125\n",
       "...                         ...       ...     ...       ...\n",
       "2022-02-25 15:30:00  545.037574  540.0000  552.75  542.6125\n",
       "2022-02-25 16:26:00  542.518787  540.0000  552.75  542.6125\n",
       "2022-02-25 16:44:00  541.259394  540.0000  552.75  542.6125\n",
       "2022-02-25 16:52:00  540.629697  540.0000  552.75  542.6125\n",
       "2022-02-25 17:15:00  540.314848  540.0000  552.75  542.6125\n",
       "\n",
       "[331 rows x 4 columns]"
      ]
     },
     "execution_count": 120,
     "metadata": {},
     "output_type": "execute_result"
    }
   ],
   "source": [
    "dataha"
   ]
  },
  {
   "cell_type": "code",
   "execution_count": 111,
   "metadata": {},
   "outputs": [
    {
     "data": {
      "text/plain": [
       "RangeIndex(start=0, stop=331, step=1)"
      ]
     },
     "execution_count": 111,
     "metadata": {},
     "output_type": "execute_result"
    }
   ],
   "source": [
    "data.index"
   ]
  },
  {
   "cell_type": "code",
   "execution_count": 3,
   "metadata": {},
   "outputs": [
    {
     "name": "stdout",
     "output_type": "stream",
     "text": [
      "\n",
      "select \n",
      "to_timestamp(floor((extract('epoch' from a.exchange_timestamp) / 60 )) * 60) AT TIME ZONE 'UTC' as candle,\n",
      "tradingsymbol,\n",
      "count(*) as nostrades , \n",
      "(array_agg (last_price order by a.last_trade_time asc ))[1] o,\n",
      "(array_agg (last_price order by a.last_trade_time desc ))[1] c,\n",
      "max (a.last_price) h,\n",
      "min (a.last_price) l\n",
      "-- ,max(a.volume_traded)-min(a.volume_traded) volume\n",
      "\n",
      "from kite_prod.ticks a where a.tradingsymbol = 'BANKNIFTY2230335600PE' and date(exchange_timestamp) = '25feb2022'\n",
      "-- and extract (hour from a.last_trade_time) between 11 and 12\n",
      "group by candle , a.tradingsymbol\n",
      "order by candle \n",
      "\n"
     ]
    }
   ],
   "source": [
    "print(query)"
   ]
  },
  {
   "cell_type": "code",
   "execution_count": null,
   "metadata": {},
   "outputs": [],
   "source": []
  }
 ],
 "metadata": {
  "interpreter": {
   "hash": "3e1754bc5723aad4107445ab6c27114a2d08cdbf51ac57bac6ff6a207278bcb2"
  },
  "kernelspec": {
   "display_name": "Python 3.10.2 64-bit",
   "language": "python",
   "name": "python3"
  },
  "language_info": {
   "codemirror_mode": {
    "name": "ipython",
    "version": 3
   },
   "file_extension": ".py",
   "mimetype": "text/x-python",
   "name": "python",
   "nbconvert_exporter": "python",
   "pygments_lexer": "ipython3",
   "version": "3.10.2"
  },
  "orig_nbformat": 4
 },
 "nbformat": 4,
 "nbformat_minor": 2
}
